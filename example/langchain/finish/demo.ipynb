{
 "cells": [
  {
   "cell_type": "code",
   "execution_count": 1,
   "metadata": {},
   "outputs": [
    {
     "data": {
      "text/plain": [
       "True"
      ]
     },
     "execution_count": 1,
     "metadata": {},
     "output_type": "execute_result"
    }
   ],
   "source": [
    "# set the environment variables needed for openai package to know to reach out to azure\n",
    "import os\n",
    "\n",
    "os.environ[\"OPENAI_API_TYPE\"] = \"azure\"\n",
    "os.environ[\"OPENAI_API_BASE\"] = \"https://<your-endpoint.openai.azure.com/\"\n",
    "os.environ[\"OPENAI_API_KEY\"] = \"your AzureOpenAI key\"\n",
    "os.environ[\"OPENAI_API_VERSION\"] = \"2023-03-15-preview\"\n",
    "\n",
    "from dotenv import load_dotenv\n",
    "load_dotenv(\"../.env\", override=True)"
   ]
  },
  {
   "cell_type": "code",
   "execution_count": 2,
   "metadata": {},
   "outputs": [],
   "source": [
    "from langchain.chat_models import AzureChatOpenAI\n",
    "from langchain.embeddings import OpenAIEmbeddings\n",
    "\n",
    "llm = AzureChatOpenAI(deployment_name=\"gpt-35-turbo\", temperature=0.5)\n",
    "embeddings = OpenAIEmbeddings(deployment=\"text-embedding-ada-002\", chunk_size=1)"
   ]
  },
  {
   "cell_type": "code",
   "execution_count": 3,
   "metadata": {},
   "outputs": [],
   "source": [
    "from langchain.vectorstores.redis import Redis\n",
    "\n",
    "rds = Redis.from_existing_index(\n",
    "    embeddings, redis_url=\"redis://localhost:6379\", index_name=\"link\"\n",
    ")\n",
    "retriever = rds.as_retriever(search_type=\"similarity_limit\", score_threshold=0.8)"
   ]
  },
  {
   "cell_type": "code",
   "execution_count": 4,
   "metadata": {},
   "outputs": [],
   "source": [
    "from langchain.chains import RetrievalQA\n",
    "\n",
    "qa = RetrievalQA.from_chain_type(llm=llm, chain_type=\"map_reduce\", retriever=retriever)"
   ]
  },
  {
   "cell_type": "code",
   "execution_count": 5,
   "metadata": {},
   "outputs": [],
   "source": [
    "from langchain.agents import Tool\n",
    "\n",
    "tools = [\n",
    "    Tool(\n",
    "        name=\"Contract QA System\",\n",
    "        func=qa.run,\n",
    "        description=\"useful for when you need to answer questions about contracts.Input needs to be in Chinese\",\n",
    "    )\n",
    "]"
   ]
  },
  {
   "cell_type": "code",
   "execution_count": 6,
   "metadata": {},
   "outputs": [],
   "source": [
    "from langchain.agents import initialize_agent\n",
    "from langchain.agents import AgentType"
   ]
  },
  {
   "cell_type": "code",
   "execution_count": 13,
   "metadata": {},
   "outputs": [
    {
     "name": "stdout",
     "output_type": "stream",
     "text": [
      "\n",
      "\n",
      "\u001b[1m> Entering new  chain...\u001b[0m\n",
      "\u001b[32;1m\u001b[1;3mThought: This question is asking about the circumstances under which a contract can be unilaterally terminated.\n",
      "\n",
      "Action:\n",
      "```\n",
      "{\n",
      "  \"action\": \"Contract QA System\",\n",
      "  \"action_input\": \"在什么情况下可以单方面解除合同？\"\n",
      "}\n",
      "```\n",
      "\n",
      "\u001b[0m"
     ]
    },
    {
     "name": "stderr",
     "output_type": "stream",
     "text": [
      "Retrying langchain.chat_models.openai.ChatOpenAI.completion_with_retry.<locals>._completion_with_retry in 1.0 seconds as it raised APIError: The server experienced an error while processing your request. Sorry about that! You can retry your request, or contact us through an Azure support request at: https://go.microsoft.com/fwlink/?linkid=2213926 if the error persists. {\n",
      "  \"error\": {\n",
      "    \"message\": \"The server experienced an error while processing your request. Sorry about that! You can retry your request, or contact us through an Azure support request at: https://go.microsoft.com/fwlink/?linkid=2213926 if the error persists.\",\n",
      "    \"type\": \"server_error\",\n",
      "    \"param\": null,\n",
      "    \"code\": null\n",
      "  }\n",
      "}\n",
      " 500 {'error': {'message': 'The server experienced an error while processing your request. Sorry about that! You can retry your request, or contact us through an Azure support request at: https://go.microsoft.com/fwlink/?linkid=2213926 if the error persists.', 'type': 'server_error', 'param': None, 'code': None}} {'Content-Length': '334', 'Content-Type': 'application/json', 'access-control-allow-origin': '*', 'apim-request-id': 'eea8fabd-9505-43bd-9b7b-48b85b8bfac1', 'openai-model': 'gpt-35-turbo-16k', 'x-content-type-options': 'nosniff', 'openai-processing-ms': '8507.4881', 'x-ms-region': 'East US', 'x-request-id': '9889ed99-a8db-4784-a13e-b623a676556d', 'ms-azureml-model-error-reason': 'model_error', 'ms-azureml-model-error-statuscode': '500', 'x-ms-client-request-id': 'eea8fabd-9505-43bd-9b7b-48b85b8bfac1', 'Strict-Transport-Security': 'max-age=31536000; includeSubDomains; preload', 'azureml-model-session': 'dep-0', 'azureml-model-group': 'online', 'Date': 'Sun, 16 Jul 2023 13:25:41 GMT'}.\n"
     ]
    },
    {
     "name": "stdout",
     "output_type": "stream",
     "text": [
      "\n",
      "Observation: \u001b[36;1m\u001b[1;3m根据文本，以下情况下可以单方面解除合同：\n",
      "\n",
      "甲方：\n",
      "1. 因工负伤，治疗终结后经劳动能力鉴定机构鉴定为 1 至 4 级丧失劳动能力的；\n",
      "2. 患职业病以及现有医疗条件下难以治愈的严重疾病或者精神病的；\n",
      "3. 乙方正在接受纪律审查尚未作出结论的；\n",
      "4. 属于国家规定的不得解除本合同的其他情形的。\n",
      "\n",
      "乙方：\n",
      "1. 在试用期内的；\n",
      "2. 考入普通高等院校的；\n",
      "3. 被录用或者选调为公务员的；\n",
      "4. 依法服兵役的。\n",
      "\n",
      "除上述情形外，乙方提出解除本合同未能与甲方协商一致的，乙方应当坚持正常工作，继续履行本合同；6 个月后再次提出解除本合同仍未能与甲方协商一致的，即可单方面解除本合同。\n",
      "\n",
      "本合同可以在以下情况下单方面解除：甲方被依法注销、撤销或者解散；乙方死亡或者被人民法院宣告死亡；乙方按照国家有关规定退休或退职；甲方、乙方双方约定的合同终止条件出现。\u001b[0m\n",
      "Thought:\u001b[32;1m\u001b[1;3mAccording to the text, the circumstances under which a contract can be unilaterally terminated are:\n",
      "\n",
      "For Party A:\n",
      "1. Suffering from work-related injuries and being appraised by a labor capacity appraisal institution as having lost 1 to 4 levels of labor capacity after the end of treatment;\n",
      "2. Suffering from occupational diseases or serious diseases or mental illnesses that are difficult to cure under existing medical conditions;\n",
      "3. Being under disciplinary investigation by Party B without a conclusion yet;\n",
      "4. Other circumstances stipulated by the state that cannot terminate the contract.\n",
      "\n",
      "For Party B:\n",
      "1. During the probation period;\n",
      "2. Enrolling in regular institutions of higher learning;\n",
      "3. Being employed as a civil servant or selected for government service;\n",
      "4. Serving in the military according to law.\n",
      "\n",
      "If Party B proposes to terminate the contract but fails to reach an agreement with Party A through consultation, Party B should continue to perform the contract normally and fulfill the contract. If Party B proposes to terminate the contract again after 6 months without reaching an agreement with Party A, Party B can unilaterally terminate the contract.\n",
      "\n",
      "The contract can be unilaterally terminated in the following circumstances: Party A is legally cancelled, revoked, or dissolved; Party B dies or is declared dead by a people's court; Party B retires or resigns in accordance with relevant national regulations; the termination conditions agreed upon by both Party A and Party B occur.\n",
      "\n",
      "Final Answer: The circumstances under which a contract can be unilaterally terminated are listed above for both Party A and Party B.\u001b[0m\n",
      "\n",
      "\u001b[1m> Finished chain.\u001b[0m\n"
     ]
    },
    {
     "data": {
      "text/plain": [
       "'The circumstances under which a contract can be unilaterally terminated are listed above for both Party A and Party B.'"
      ]
     },
     "execution_count": 13,
     "metadata": {},
     "output_type": "execute_result"
    }
   ],
   "source": [
    "agent_chain = initialize_agent(\n",
    "    tools, llm, agent=AgentType.CHAT_ZERO_SHOT_REACT_DESCRIPTION, verbose=True\n",
    ")\n",
    "\n",
    "agent_chain.run(\"在什么情况下可以单方面解除合同？\")"
   ]
  },
  {
   "cell_type": "code",
   "execution_count": 14,
   "metadata": {},
   "outputs": [],
   "source": [
    "from langchain import OpenAI, ConversationChain\n",
    "from langchain.schema import BaseMemory\n",
    "from pydantic import BaseModel\n",
    "from typing import List, Dict, Any"
   ]
  },
  {
   "cell_type": "code",
   "execution_count": 1,
   "metadata": {},
   "outputs": [
    {
     "ename": "NameError",
     "evalue": "name 'BaseMemory' is not defined",
     "output_type": "error",
     "traceback": [
      "\u001b[1;31m---------------------------------------------------------------------------\u001b[0m",
      "\u001b[1;31mNameError\u001b[0m                                 Traceback (most recent call last)",
      "Cell \u001b[1;32mIn[1], line 1\u001b[0m\n\u001b[1;32m----> 1\u001b[0m \u001b[39mclass\u001b[39;00m \u001b[39mDocsMemory\u001b[39;00m(BaseMemory, BaseModel):\n\u001b[0;32m      2\u001b[0m \u001b[39m    \u001b[39m\u001b[39m\"\"\"Memory class for storing information about entities.\"\"\"\u001b[39;00m\n\u001b[0;32m      4\u001b[0m     memories: Dict[\u001b[39mstr\u001b[39m, Any] \u001b[39m=\u001b[39m \u001b[39mdict\u001b[39m()\n",
      "\u001b[1;31mNameError\u001b[0m: name 'BaseMemory' is not defined"
     ]
    }
   ],
   "source": [
    "class DocsMemory(BaseMemory, BaseModel):\n",
    "    \"\"\"Memory class for storing information about entities.\"\"\"\n",
    "\n",
    "    memories: Dict[str, Any] = dict()\n",
    "\n",
    "    def clear(self):\n",
    "        self.entities = {}\n",
    "\n",
    "    @property\n",
    "    def memory_variables(self) -> List[str]:\n",
    "        \"\"\"Define the variables we are providing to the prompt.\"\"\"\n",
    "        return list(self.memories.keys())\n",
    "\n",
    "    def load_memory_variables(self, inputs: Dict[str, Any]) -> Dict[str, str]:\n",
    "        \"\"\"Load the memory variables, in this case the entity key.\"\"\"\n",
    "        return self.memories\n",
    "\n",
    "    def save_context(self, inputs: Dict[str, Any], outputs: Dict[str, str]) -> None:\n",
    "        \"\"\"Save context from this conversation to buffer.\"\"\"\n",
    "        print(\"Saving context...\")\n",
    "        print(outputs)"
   ]
  },
  {
   "cell_type": "code",
   "execution_count": 18,
   "metadata": {},
   "outputs": [],
   "source": [
    "qa_test = RetrievalQA.from_chain_type(\n",
    "    llm=llm,\n",
    "    chain_type=\"map_reduce\",\n",
    "    retriever=retriever,\n",
    "    memory=DocsMemory(),\n",
    "    return_source_documents=True,\n",
    ")"
   ]
  },
  {
   "cell_type": "code",
   "execution_count": 19,
   "metadata": {},
   "outputs": [
    {
     "name": "stdout",
     "output_type": "stream",
     "text": [
      "Saving context...\n",
      "{'query': '在什么情况下可以单方面解除合同？'}\n"
     ]
    },
    {
     "data": {
      "text/plain": [
       "{'query': '在什么情况下可以单方面解除合同？',\n",
       " 'result': '根据文本，以下情况可以单方面解除合同：\\n\\n- 在承担国家重大科研项目期间；\\n- 掌握重大科技成果关键技术和资料，未脱离保密期；\\n- 被审查期间或因经济问题未作结案处理之前；\\n- 合同订立时所依据的客观情况发生重大变化，致使合同无法履行，经甲乙双方协商不能就变更合同达成协议的；\\n- 甲方提出解除本合同，乙方同意解除的；\\n- 乙方患病或者非因工负伤，医疗期满后，不能从事原工作也不能从事由甲方安排的其他工作，甲方单方面解除本合同的；\\n- 乙方年度考核或者聘期考核不合格，又不同意甲方调整其工作岗位的；\\n- 在试用期内被证明不符合本岗位要求；\\n- 连续旷工超过 10 个工作日或者 1 年内累计旷工超过 20 个工作日的；\\n- 乙方公派出国或因私出境逾期不归；\\n- 违反工作规定或者操作规程，发生责任事故，或者失职、渎职，造成严重后果的；\\n- 严重扰乱工作秩序，致使甲方、其他单位工作不能正常进行的；\\n- 被判处拘役、有期徒刑缓刑以及有期徒刑以上刑罚收监执行，或者被劳动教养的；\\n- 乙方患病或者非因工负伤，医疗期满后，不能从事原工作也不能从事由甲方安排的其他工作的。\\n\\n此外，根据文本，还有以下情况可以单方面解除合同：\\n\\n- 在试用期内的；\\n- 考入普通高等院校的；\\n- 被录用或者选调为公务员的；\\n- 依法服兵役的；\\n- 乙方按照国家有关规定退休或退职的；\\n- 乙方死亡或者被人民法院宣告死亡的；\\n- 甲方被依法注销、撤销或者解散的。\\n\\n合同期限届满和甲、乙双方约定的合同终止条件出现也可以导致合同终止。',\n",
       " 'source_documents': [Document(page_content='（六）有下列情形之一的，乙方不得单方面解除项目聘用合同： 1．在承担国家重大科研项目期间； 2．掌握重大科技成果关键技术和资料，未脱离保密期； 3．被审查期间或因经济问题未作结案处理之前。 （七）本合同订立时所依据的客观情况发 生重大变化，致使合同无法履行，\\n经甲乙双方协商不能就变更合同达成协议的，双方均可以单方面解除本合同。 \\n（八）有下列情形之一的，甲方应当根据乙方在本单位的实际工作年限向其\\n支付经济补偿： \\n1．甲方提出解除本合同，乙方同意解除的； 2．乙方患病或者非因工负伤，医疗期满 后，不能从事原工作也不能从事由\\n甲方安排的其他工作，甲方单方面解除本合同的； \\n3．乙方年度考核或者聘期考核不合格， 又不同意甲方调整其工作岗位的，', metadata={'source': './contract.pdf', 'page': 7}),\n",
       "  Document(page_content='（二）乙方有下列情形之一的，甲方可以随时单方面解除本合同： 1．在试用期内被证明不符合本岗位要求； 2．连续旷工超过 10 个工作日或者 1 年内累计旷工超过 20 个工作日的； 3．乙方公派出国或因私出境逾期不归；   \\n4．违反工作规定或者操作规程，发生责 任事故，或者失职、渎职，造成严\\n重后果的； \\n5．严重扰乱工作秩序，致使甲方、其他单位工作不能正常进行的； 6．被判处拘役、有期徒刑缓刑以及有期 徒刑以上刑罚收监执行，或者被劳\\n动教养的。 \\n（三）乙方有下列情形之一，甲方可以单方面解除本合同，但是应当提前\\n30 日以书面形式通知乙方： \\n1．乙方患病或者非因工负伤，医疗期满 后，不能从事原工作也不能从事由\\n甲方安排的其他工作的；', metadata={'source': './contract.pdf', 'page': 6}),\n",
       "  Document(page_content='83．因工负伤，治疗终结后经劳动能力鉴定机构鉴定为 1 至 4 级丧失劳动能\\n力的； \\n4．患职业病以及现有医疗条件下难以治愈的严重疾病或者精神病的； 5．乙方正在接受纪律审查尚未作出结论的； 6．属于国家规定的不得解除本合同的其他情形的。 （五）有下列情形之一的，乙方可以随时单方面解除本合同： 1．在试用期内的； 2．考入普通高等院校的； 3．被录用或者选调为公务员的； 4．依法服兵役的。 除上述情形外，乙方提出解除本合同未能与甲方协商一致的，乙方应当坚持\\n正常工作，继续履行本合同；6 个月后再次提出解除本合同仍未能与甲方协商一致的，即可单方面解除本合同。', metadata={'source': './contract.pdf', 'page': 7}),\n",
       "  Document(page_content='9的 3 倍计算；低于当地上年月平均工资 60%的，按 60%计算。 \\n（九）合同解除后，甲方应当为乙方开具《解除项目聘用合同证明书》 （附\\n后），并办理相关手续。甲、乙双方应当在 3 个月内办理人事档案转移手续。甲\\n方不得以任何理由扣留乙方的人事档案，乙方不得无故不办理档案转移手续。符合规定的经济补偿条件的， 甲方应当按照国家和本地方的有关规定给予乙方经济\\n补偿。 \\n八、项目聘用合同的终止  \\n（一）有下列情形之一的，本合同终止： 1．本合同期限届满； 2．甲、乙双方约定的合同终止条件出现； 3．乙方按照国家有关规定退休或退职的； 4．乙方死亡或者被人民法院宣告死亡的； 5．甲方被依法注销、撤销或者解散的。 （二）甲方不续订项目聘用合同，应在合同期限届满前 30 日，将终止项目', metadata={'source': './contract.pdf', 'page': 8})]}"
      ]
     },
     "execution_count": 19,
     "metadata": {},
     "output_type": "execute_result"
    }
   ],
   "source": [
    "qa_test(\"在什么情况下可以单方面解除合同？\")"
   ]
  },
  {
   "cell_type": "code",
   "execution_count": null,
   "metadata": {},
   "outputs": [],
   "source": []
  }
 ],
 "metadata": {
  "kernelspec": {
   "display_name": ".venv",
   "language": "python",
   "name": "python3"
  },
  "language_info": {
   "codemirror_mode": {
    "name": "ipython",
    "version": 3
   },
   "file_extension": ".py",
   "mimetype": "text/x-python",
   "name": "python",
   "nbconvert_exporter": "python",
   "pygments_lexer": "ipython3",
   "version": "3.11.3"
  },
  "orig_nbformat": 4
 },
 "nbformat": 4,
 "nbformat_minor": 2
}
