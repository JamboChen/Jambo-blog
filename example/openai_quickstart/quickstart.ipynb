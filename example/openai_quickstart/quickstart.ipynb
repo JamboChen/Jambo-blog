{
 "cells": [
  {
   "cell_type": "code",
   "execution_count": 1,
   "metadata": {},
   "outputs": [],
   "source": [
    "import json\n",
    "import openai"
   ]
  },
  {
   "cell_type": "code",
   "execution_count": 2,
   "metadata": {},
   "outputs": [],
   "source": [
    "with open(\"develop.json\") as f:\n",
    "    info = json.load(f)\n",
    "\n",
    "openai.api_key = info[\"key\"]\n",
    "openai.api_base =  info[\"endpoint\"] # your endpoint should look like the following https://YOUR_RESOURCE_NAME.openai.azure.com/\n",
    "openai.api_type = 'azure'\n",
    "openai.api_version = '2022-12-01' # this may change in the future\n",
    "\n",
    "deployment_name= info[\"deployment_name\"] #This will correspond to the custom name you chose for your deployment when you deployed a model. "
   ]
  },
  {
   "cell_type": "code",
   "execution_count": 9,
   "metadata": {},
   "outputs": [
    {
     "name": "stdout",
     "output_type": "stream",
     "text": [
      "Sending a test completion job\n",
      "Write a python function that generates the Fibonacci sequence with as few lines as possible\n",
      "\n",
      "def fib(n):\n",
      " a,b=0,1\n",
      " for i in range(n):\n",
      "  a,b=b,a+b\n",
      " return a\n",
      "print(fib(7))\n"
     ]
    }
   ],
   "source": [
    "# Send a completion call to generate an answer\n",
    "print('Sending a test completion job')\n",
    "start_phrase = 'Write a python function that generates the Fibonacci sequence with as few lines as possible'\n",
    "response = openai.Completion.create(engine=deployment_name, prompt=start_phrase, max_tokens=200)\n",
    "text = response['choices'][0]['text']\n",
    "print(start_phrase+text)"
   ]
  }
 ],
 "metadata": {
  "kernelspec": {
   "display_name": "3.11",
   "language": "python",
   "name": "python3"
  },
  "language_info": {
   "codemirror_mode": {
    "name": "ipython",
    "version": 3
   },
   "file_extension": ".py",
   "mimetype": "text/x-python",
   "name": "python",
   "nbconvert_exporter": "python",
   "pygments_lexer": "ipython3",
   "version": "3.11.0"
  },
  "orig_nbformat": 4
 },
 "nbformat": 4,
 "nbformat_minor": 2
}
