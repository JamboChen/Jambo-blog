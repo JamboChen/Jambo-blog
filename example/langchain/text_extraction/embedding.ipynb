{
 "cells": [
  {
   "cell_type": "code",
   "execution_count": 1,
   "metadata": {},
   "outputs": [
    {
     "data": {
      "text/plain": [
       "True"
      ]
     },
     "execution_count": 1,
     "metadata": {},
     "output_type": "execute_result"
    }
   ],
   "source": [
    "# set the environment variables needed for openai package to know to reach out to azure\n",
    "import os\n",
    "\n",
    "os.environ[\"OPENAI_API_TYPE\"] = \"azure\"\n",
    "os.environ[\"OPENAI_API_BASE\"] = \"https://<your-endpoint.openai.azure.com/\"\n",
    "os.environ[\"OPENAI_API_KEY\"] = \"your AzureOpenAI key\"\n",
    "os.environ[\"OPENAI_API_VERSION\"] = \"2023-03-15-preview\"\n",
    "\n",
    "from dotenv import load_dotenv\n",
    "load_dotenv(override=True)"
   ]
  },
  {
   "cell_type": "code",
   "execution_count": 2,
   "metadata": {},
   "outputs": [],
   "source": [
    "from langchain.embeddings import OpenAIEmbeddings\n",
    "\n",
    "embeddings = OpenAIEmbeddings(deployment=\"text-embedding-ada-002\", chunk_size=1)"
   ]
  },
  {
   "cell_type": "code",
   "execution_count": 3,
   "metadata": {},
   "outputs": [],
   "source": [
    "text = \"This is a test document.\"\n",
    "\n",
    "query_result = embeddings.embed_query(text)"
   ]
  },
  {
   "cell_type": "code",
   "execution_count": 4,
   "metadata": {},
   "outputs": [],
   "source": [
    "doc_result = embeddings.embed_documents([text, text, text])"
   ]
  },
  {
   "cell_type": "code",
   "execution_count": 5,
   "metadata": {},
   "outputs": [],
   "source": [
    "from langchain.vectorstores.redis import Redis\n",
    "from langchain.document_loaders import PyPDFLoader\n",
    "from langchain.text_splitter import RecursiveCharacterTextSplitter\n",
    "\n",
    "loader = PyPDFLoader(\"./contract.pdf\")\n",
    "documents = loader.load()\n",
    "text_splitter = RecursiveCharacterTextSplitter(chunk_size=350, chunk_overlap=20)\n",
    "docs = text_splitter.split_documents(documents)\n",
    "\n"
   ]
  },
  {
   "cell_type": "code",
   "execution_count": 13,
   "metadata": {},
   "outputs": [],
   "source": [
    "rds = Redis.from_documents(\n",
    "    docs,\n",
    "    embeddings,\n",
    "    redis_url=\"redis://localhost:6379\",\n",
    "    index_name=\"link\",\n",
    ")"
   ]
  },
  {
   "cell_type": "code",
   "execution_count": 7,
   "metadata": {},
   "outputs": [
    {
     "data": {
      "text/plain": [
       "[Document(page_content='（六）有下列情形之一的，乙方不得单方面解除项目聘用合同： 1．在承担国家重大科研项目期间； 2．掌握重大科技成果关键技术和资料，未脱离保密期； 3．被审查期间或因经济问题未作结案处理之前。 （七）本合同订立时所依据的客观情况发 生重大变化，致使合同无法履行，\\n经甲乙双方协商不能就变更合同达成协议的，双方均可以单方面解除本合同。 \\n（八）有下列情形之一的，甲方应当根据乙方在本单位的实际工作年限向其\\n支付经济补偿： \\n1．甲方提出解除本合同，乙方同意解除的； 2．乙方患病或者非因工负伤，医疗期满 后，不能从事原工作也不能从事由\\n甲方安排的其他工作，甲方单方面解除本合同的； \\n3．乙方年度考核或者聘期考核不合格， 又不同意甲方调整其工作岗位的，', metadata={'source': './contract.pdf', 'page': 7}),\n",
       " Document(page_content='（六）有下列情形之一的，乙方不得单方面解除项目聘用合同： 1．在承担国家重大科研项目期间； 2．掌握重大科技成果关键技术和资料，未脱离保密期； 3．被审查期间或因经济问题未作结案处理之前。 （七）本合同订立时所依据的客观情况发 生重大变化，致使合同无法履行，\\n经甲乙双方协商不能就变更合同达成协议的，双方均可以单方面解除本合同。 \\n（八）有下列情形之一的，甲方应当根据乙方在本单位的实际工作年限向其\\n支付经济补偿： \\n1．甲方提出解除本合同，乙方同意解除的； 2．乙方患病或者非因工负伤，医疗期满 后，不能从事原工作也不能从事由\\n甲方安排的其他工作，甲方单方面解除本合同的； \\n3．乙方年度考核或者聘期考核不合格， 又不同意甲方调整其工作岗位的，', metadata={'source': './contract.pdf', 'page': 7}),\n",
       " Document(page_content='（二）乙方有下列情形之一的，甲方可以随时单方面解除本合同： 1．在试用期内被证明不符合本岗位要求； 2．连续旷工超过 10 个工作日或者 1 年内累计旷工超过 20 个工作日的； 3．乙方公派出国或因私出境逾期不归；   \\n4．违反工作规定或者操作规程，发生责 任事故，或者失职、渎职，造成严\\n重后果的； \\n5．严重扰乱工作秩序，致使甲方、其他单位工作不能正常进行的； 6．被判处拘役、有期徒刑缓刑以及有期 徒刑以上刑罚收监执行，或者被劳\\n动教养的。 \\n（三）乙方有下列情形之一，甲方可以单方面解除本合同，但是应当提前\\n30 日以书面形式通知乙方： \\n1．乙方患病或者非因工负伤，医疗期满 后，不能从事原工作也不能从事由\\n甲方安排的其他工作的；', metadata={'source': './contract.pdf', 'page': 6}),\n",
       " Document(page_content='（二）乙方有下列情形之一的，甲方可以随时单方面解除本合同： 1．在试用期内被证明不符合本岗位要求； 2．连续旷工超过 10 个工作日或者 1 年内累计旷工超过 20 个工作日的； 3．乙方公派出国或因私出境逾期不归；   \\n4．违反工作规定或者操作规程，发生责 任事故，或者失职、渎职，造成严\\n重后果的； \\n5．严重扰乱工作秩序，致使甲方、其他单位工作不能正常进行的； 6．被判处拘役、有期徒刑缓刑以及有期 徒刑以上刑罚收监执行，或者被劳\\n动教养的。 \\n（三）乙方有下列情形之一，甲方可以单方面解除本合同，但是应当提前\\n30 日以书面形式通知乙方： \\n1．乙方患病或者非因工负伤，医疗期满 后，不能从事原工作也不能从事由\\n甲方安排的其他工作的；', metadata={'source': './contract.pdf', 'page': 6})]"
      ]
     },
     "execution_count": 7,
     "metadata": {},
     "output_type": "execute_result"
    }
   ],
   "source": [
    "rds.similarity_search(\"在什么情况下可以单方面解除合同\")"
   ]
  },
  {
   "cell_type": "code",
   "execution_count": 8,
   "metadata": {},
   "outputs": [],
   "source": [
    "retriever = rds.as_retriever()"
   ]
  },
  {
   "cell_type": "code",
   "execution_count": 9,
   "metadata": {},
   "outputs": [
    {
     "data": {
      "text/plain": [
       "[Document(page_content='（六）有下列情形之一的，乙方不得单方面解除项目聘用合同： 1．在承担国家重大科研项目期间； 2．掌握重大科技成果关键技术和资料，未脱离保密期； 3．被审查期间或因经济问题未作结案处理之前。 （七）本合同订立时所依据的客观情况发 生重大变化，致使合同无法履行，\\n经甲乙双方协商不能就变更合同达成协议的，双方均可以单方面解除本合同。 \\n（八）有下列情形之一的，甲方应当根据乙方在本单位的实际工作年限向其\\n支付经济补偿： \\n1．甲方提出解除本合同，乙方同意解除的； 2．乙方患病或者非因工负伤，医疗期满 后，不能从事原工作也不能从事由\\n甲方安排的其他工作，甲方单方面解除本合同的； \\n3．乙方年度考核或者聘期考核不合格， 又不同意甲方调整其工作岗位的，', metadata={'source': './contract.pdf', 'page': 7}),\n",
       " Document(page_content='（六）有下列情形之一的，乙方不得单方面解除项目聘用合同： 1．在承担国家重大科研项目期间； 2．掌握重大科技成果关键技术和资料，未脱离保密期； 3．被审查期间或因经济问题未作结案处理之前。 （七）本合同订立时所依据的客观情况发 生重大变化，致使合同无法履行，\\n经甲乙双方协商不能就变更合同达成协议的，双方均可以单方面解除本合同。 \\n（八）有下列情形之一的，甲方应当根据乙方在本单位的实际工作年限向其\\n支付经济补偿： \\n1．甲方提出解除本合同，乙方同意解除的； 2．乙方患病或者非因工负伤，医疗期满 后，不能从事原工作也不能从事由\\n甲方安排的其他工作，甲方单方面解除本合同的； \\n3．乙方年度考核或者聘期考核不合格， 又不同意甲方调整其工作岗位的，', metadata={'source': './contract.pdf', 'page': 7}),\n",
       " Document(page_content='（二）乙方有下列情形之一的，甲方可以随时单方面解除本合同： 1．在试用期内被证明不符合本岗位要求； 2．连续旷工超过 10 个工作日或者 1 年内累计旷工超过 20 个工作日的； 3．乙方公派出国或因私出境逾期不归；   \\n4．违反工作规定或者操作规程，发生责 任事故，或者失职、渎职，造成严\\n重后果的； \\n5．严重扰乱工作秩序，致使甲方、其他单位工作不能正常进行的； 6．被判处拘役、有期徒刑缓刑以及有期 徒刑以上刑罚收监执行，或者被劳\\n动教养的。 \\n（三）乙方有下列情形之一，甲方可以单方面解除本合同，但是应当提前\\n30 日以书面形式通知乙方： \\n1．乙方患病或者非因工负伤，医疗期满 后，不能从事原工作也不能从事由\\n甲方安排的其他工作的；', metadata={'source': './contract.pdf', 'page': 6}),\n",
       " Document(page_content='（二）乙方有下列情形之一的，甲方可以随时单方面解除本合同： 1．在试用期内被证明不符合本岗位要求； 2．连续旷工超过 10 个工作日或者 1 年内累计旷工超过 20 个工作日的； 3．乙方公派出国或因私出境逾期不归；   \\n4．违反工作规定或者操作规程，发生责 任事故，或者失职、渎职，造成严\\n重后果的； \\n5．严重扰乱工作秩序，致使甲方、其他单位工作不能正常进行的； 6．被判处拘役、有期徒刑缓刑以及有期 徒刑以上刑罚收监执行，或者被劳\\n动教养的。 \\n（三）乙方有下列情形之一，甲方可以单方面解除本合同，但是应当提前\\n30 日以书面形式通知乙方： \\n1．乙方患病或者非因工负伤，医疗期满 后，不能从事原工作也不能从事由\\n甲方安排的其他工作的；', metadata={'source': './contract.pdf', 'page': 6})]"
      ]
     },
     "execution_count": 9,
     "metadata": {},
     "output_type": "execute_result"
    }
   ],
   "source": [
    "retriever.get_relevant_documents(\"在什么情况下可以单方面解除合同\")"
   ]
  },
  {
   "cell_type": "code",
   "execution_count": 10,
   "metadata": {},
   "outputs": [],
   "source": [
    "retriever = rds.as_retriever(search_type=\"similarity_limit\", k=2, score_threshold=0.8)"
   ]
  },
  {
   "cell_type": "code",
   "execution_count": 11,
   "metadata": {},
   "outputs": [
    {
     "data": {
      "text/plain": [
       "[Document(page_content='（六）有下列情形之一的，乙方不得单方面解除项目聘用合同： 1．在承担国家重大科研项目期间； 2．掌握重大科技成果关键技术和资料，未脱离保密期； 3．被审查期间或因经济问题未作结案处理之前。 （七）本合同订立时所依据的客观情况发 生重大变化，致使合同无法履行，\\n经甲乙双方协商不能就变更合同达成协议的，双方均可以单方面解除本合同。 \\n（八）有下列情形之一的，甲方应当根据乙方在本单位的实际工作年限向其\\n支付经济补偿： \\n1．甲方提出解除本合同，乙方同意解除的； 2．乙方患病或者非因工负伤，医疗期满 后，不能从事原工作也不能从事由\\n甲方安排的其他工作，甲方单方面解除本合同的； \\n3．乙方年度考核或者聘期考核不合格， 又不同意甲方调整其工作岗位的，', metadata={'source': './contract.pdf', 'page': 7}),\n",
       " Document(page_content='（六）有下列情形之一的，乙方不得单方面解除项目聘用合同： 1．在承担国家重大科研项目期间； 2．掌握重大科技成果关键技术和资料，未脱离保密期； 3．被审查期间或因经济问题未作结案处理之前。 （七）本合同订立时所依据的客观情况发 生重大变化，致使合同无法履行，\\n经甲乙双方协商不能就变更合同达成协议的，双方均可以单方面解除本合同。 \\n（八）有下列情形之一的，甲方应当根据乙方在本单位的实际工作年限向其\\n支付经济补偿： \\n1．甲方提出解除本合同，乙方同意解除的； 2．乙方患病或者非因工负伤，医疗期满 后，不能从事原工作也不能从事由\\n甲方安排的其他工作，甲方单方面解除本合同的； \\n3．乙方年度考核或者聘期考核不合格， 又不同意甲方调整其工作岗位的，', metadata={'source': './contract.pdf', 'page': 7})]"
      ]
     },
     "execution_count": 11,
     "metadata": {},
     "output_type": "execute_result"
    }
   ],
   "source": [
    "retriever.get_relevant_documents(\"在什么情况下可以单方面解除合同\")"
   ]
  },
  {
   "cell_type": "code",
   "execution_count": 15,
   "metadata": {},
   "outputs": [],
   "source": [
    "from langchain.chat_models import AzureChatOpenAI\n",
    "from langchain.retrievers.multi_query import MultiQueryRetriever\n",
    "\n",
    "llm = AzureChatOpenAI(deployment_name=\"gpt-35-turbo\", temperature=0)\n",
    "retriever_from_llm = MultiQueryRetriever.from_llm(retriever=retriever, llm=llm)"
   ]
  },
  {
   "cell_type": "code",
   "execution_count": 17,
   "metadata": {},
   "outputs": [],
   "source": [
    "# Set logging for the queries\n",
    "import logging\n",
    "logging.basicConfig()\n",
    "logging.getLogger('langchain.retrievers.multi_query').setLevel(logging.INFO)"
   ]
  },
  {
   "cell_type": "code",
   "execution_count": 19,
   "metadata": {},
   "outputs": [
    {
     "name": "stderr",
     "output_type": "stream",
     "text": [
      "INFO:langchain.retrievers.multi_query:Generated queries: ['1. 什么条件下可以单方面终止合同？', '2. 哪些情况下可以单方面解除合同？', '3. 在哪些情况下可以单方面取消合同？']\n"
     ]
    },
    {
     "data": {
      "text/plain": [
       "2"
      ]
     },
     "execution_count": 19,
     "metadata": {},
     "output_type": "execute_result"
    }
   ],
   "source": [
    "unique_docs = retriever_from_llm.get_relevant_documents(\"在什么情况下可以单方面解除合同\")\n",
    "len(unique_docs)"
   ]
  },
  {
   "cell_type": "code",
   "execution_count": null,
   "metadata": {},
   "outputs": [],
   "source": [
    "from langchain.chains import RetrievalQA"
   ]
  }
 ],
 "metadata": {
  "kernelspec": {
   "display_name": ".venv",
   "language": "python",
   "name": "python3"
  },
  "language_info": {
   "codemirror_mode": {
    "name": "ipython",
    "version": 3
   },
   "file_extension": ".py",
   "mimetype": "text/x-python",
   "name": "python",
   "nbconvert_exporter": "python",
   "pygments_lexer": "ipython3",
   "version": "3.11.3"
  },
  "orig_nbformat": 4
 },
 "nbformat": 4,
 "nbformat_minor": 2
}
