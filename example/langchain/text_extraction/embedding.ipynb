{
 "cells": [
  {
   "cell_type": "code",
   "execution_count": 2,
   "metadata": {},
   "outputs": [
    {
     "data": {
      "text/plain": [
       "True"
      ]
     },
     "execution_count": 2,
     "metadata": {},
     "output_type": "execute_result"
    }
   ],
   "source": [
    "# set the environment variables needed for openai package to know to reach out to azure\n",
    "import os\n",
    "\n",
    "os.environ[\"OPENAI_API_TYPE\"] = \"azure\"\n",
    "os.environ[\"OPENAI_API_BASE\"] = \"https://<your-endpoint.openai.azure.com/\"\n",
    "os.environ[\"OPENAI_API_KEY\"] = \"your AzureOpenAI key\"\n",
    "os.environ[\"OPENAI_API_VERSION\"] = \"2023-03-15-preview\"\n",
    "\n",
    "from dotenv import load_dotenv\n",
    "load_dotenv(override=True)"
   ]
  },
  {
   "cell_type": "code",
   "execution_count": 3,
   "metadata": {},
   "outputs": [],
   "source": [
    "from langchain.embeddings import OpenAIEmbeddings\n",
    "\n",
    "embeddings = OpenAIEmbeddings(deployment=\"text-embedding-ada-002\", chunk_size=1)"
   ]
  },
  {
   "cell_type": "code",
   "execution_count": 3,
   "metadata": {},
   "outputs": [],
   "source": [
    "text = \"This is a test document.\"\n",
    "\n",
    "query_result = embeddings.embed_query(text)"
   ]
  },
  {
   "cell_type": "code",
   "execution_count": 4,
   "metadata": {},
   "outputs": [],
   "source": [
    "doc_result = embeddings.embed_documents([text, text, text])"
   ]
  },
  {
   "cell_type": "code",
   "execution_count": 6,
   "metadata": {},
   "outputs": [],
   "source": [
    "from langchain.vectorstores.redis import Redis\n",
    "from langchain.document_loaders import PyPDFLoader\n",
    "from langchain.text_splitter import RecursiveCharacterTextSplitter\n",
    "\n",
    "loader = PyPDFLoader(\"./contract.pdf\")\n",
    "documents = loader.load()\n",
    "text_splitter = RecursiveCharacterTextSplitter(chunk_size=350, chunk_overlap=20)\n",
    "docs = text_splitter.split_documents(documents)\n",
    "\n"
   ]
  },
  {
   "cell_type": "code",
   "execution_count": 13,
   "metadata": {},
   "outputs": [],
   "source": [
    "rds = Redis.from_documents(\n",
    "    docs,\n",
    "    embeddings,\n",
    "    redis_url=\"redis://localhost:6379\",\n",
    "    index_name=\"link\",\n",
    ")"
   ]
  },
  {
   "cell_type": "code",
   "execution_count": 7,
   "metadata": {},
   "outputs": [
    {
     "data": {
      "text/plain": [
       "[Document(page_content='（六）有下列情形之一的，乙方不得单方面解除项目聘用合同： 1．在承担国家重大科研项目期间； 2．掌握重大科技成果关键技术和资料，未脱离保密期； 3．被审查期间或因经济问题未作结案处理之前。 （七）本合同订立时所依据的客观情况发 生重大变化，致使合同无法履行，\\n经甲乙双方协商不能就变更合同达成协议的，双方均可以单方面解除本合同。 \\n（八）有下列情形之一的，甲方应当根据乙方在本单位的实际工作年限向其\\n支付经济补偿： \\n1．甲方提出解除本合同，乙方同意解除的； 2．乙方患病或者非因工负伤，医疗期满 后，不能从事原工作也不能从事由\\n甲方安排的其他工作，甲方单方面解除本合同的； \\n3．乙方年度考核或者聘期考核不合格， 又不同意甲方调整其工作岗位的，', metadata={'source': './contract.pdf', 'page': 7}),\n",
       " Document(page_content='（六）有下列情形之一的，乙方不得单方面解除项目聘用合同： 1．在承担国家重大科研项目期间； 2．掌握重大科技成果关键技术和资料，未脱离保密期； 3．被审查期间或因经济问题未作结案处理之前。 （七）本合同订立时所依据的客观情况发 生重大变化，致使合同无法履行，\\n经甲乙双方协商不能就变更合同达成协议的，双方均可以单方面解除本合同。 \\n（八）有下列情形之一的，甲方应当根据乙方在本单位的实际工作年限向其\\n支付经济补偿： \\n1．甲方提出解除本合同，乙方同意解除的； 2．乙方患病或者非因工负伤，医疗期满 后，不能从事原工作也不能从事由\\n甲方安排的其他工作，甲方单方面解除本合同的； \\n3．乙方年度考核或者聘期考核不合格， 又不同意甲方调整其工作岗位的，', metadata={'source': './contract.pdf', 'page': 7}),\n",
       " Document(page_content='（二）乙方有下列情形之一的，甲方可以随时单方面解除本合同： 1．在试用期内被证明不符合本岗位要求； 2．连续旷工超过 10 个工作日或者 1 年内累计旷工超过 20 个工作日的； 3．乙方公派出国或因私出境逾期不归；   \\n4．违反工作规定或者操作规程，发生责 任事故，或者失职、渎职，造成严\\n重后果的； \\n5．严重扰乱工作秩序，致使甲方、其他单位工作不能正常进行的； 6．被判处拘役、有期徒刑缓刑以及有期 徒刑以上刑罚收监执行，或者被劳\\n动教养的。 \\n（三）乙方有下列情形之一，甲方可以单方面解除本合同，但是应当提前\\n30 日以书面形式通知乙方： \\n1．乙方患病或者非因工负伤，医疗期满 后，不能从事原工作也不能从事由\\n甲方安排的其他工作的；', metadata={'source': './contract.pdf', 'page': 6}),\n",
       " Document(page_content='（二）乙方有下列情形之一的，甲方可以随时单方面解除本合同： 1．在试用期内被证明不符合本岗位要求； 2．连续旷工超过 10 个工作日或者 1 年内累计旷工超过 20 个工作日的； 3．乙方公派出国或因私出境逾期不归；   \\n4．违反工作规定或者操作规程，发生责 任事故，或者失职、渎职，造成严\\n重后果的； \\n5．严重扰乱工作秩序，致使甲方、其他单位工作不能正常进行的； 6．被判处拘役、有期徒刑缓刑以及有期 徒刑以上刑罚收监执行，或者被劳\\n动教养的。 \\n（三）乙方有下列情形之一，甲方可以单方面解除本合同，但是应当提前\\n30 日以书面形式通知乙方： \\n1．乙方患病或者非因工负伤，医疗期满 后，不能从事原工作也不能从事由\\n甲方安排的其他工作的；', metadata={'source': './contract.pdf', 'page': 6})]"
      ]
     },
     "execution_count": 7,
     "metadata": {},
     "output_type": "execute_result"
    }
   ],
   "source": [
    "rds.similarity_search(\"在什么情况下可以单方面解除合同\")"
   ]
  },
  {
   "cell_type": "code",
   "execution_count": 8,
   "metadata": {},
   "outputs": [],
   "source": [
    "retriever = rds.as_retriever()"
   ]
  },
  {
   "cell_type": "code",
   "execution_count": 14,
   "metadata": {},
   "outputs": [
    {
     "data": {
      "text/plain": [
       "[Document(page_content='（六）有下列情形之一的，乙方不得单方面解除项目聘用合同： 1．在承担国家重大科研项目期间； 2．掌握重大科技成果关键技术和资料，未脱离保密期； 3．被审查期间或因经济问题未作结案处理之前。 （七）本合同订立时所依据的客观情况发 生重大变化，致使合同无法履行，\\n经甲乙双方协商不能就变更合同达成协议的，双方均可以单方面解除本合同。 \\n（八）有下列情形之一的，甲方应当根据乙方在本单位的实际工作年限向其\\n支付经济补偿： \\n1．甲方提出解除本合同，乙方同意解除的； 2．乙方患病或者非因工负伤，医疗期满 后，不能从事原工作也不能从事由\\n甲方安排的其他工作，甲方单方面解除本合同的； \\n3．乙方年度考核或者聘期考核不合格， 又不同意甲方调整其工作岗位的，', metadata={'source': './contract.pdf', 'page': 7}),\n",
       " Document(page_content='（二）乙方有下列情形之一的，甲方可以随时单方面解除本合同： 1．在试用期内被证明不符合本岗位要求； 2．连续旷工超过 10 个工作日或者 1 年内累计旷工超过 20 个工作日的； 3．乙方公派出国或因私出境逾期不归；   \\n4．违反工作规定或者操作规程，发生责 任事故，或者失职、渎职，造成严\\n重后果的； \\n5．严重扰乱工作秩序，致使甲方、其他单位工作不能正常进行的； 6．被判处拘役、有期徒刑缓刑以及有期 徒刑以上刑罚收监执行，或者被劳\\n动教养的。 \\n（三）乙方有下列情形之一，甲方可以单方面解除本合同，但是应当提前\\n30 日以书面形式通知乙方： \\n1．乙方患病或者非因工负伤，医疗期满 后，不能从事原工作也不能从事由\\n甲方安排的其他工作的；', metadata={'source': './contract.pdf', 'page': 6}),\n",
       " Document(page_content='83．因工负伤，治疗终结后经劳动能力鉴定机构鉴定为 1 至 4 级丧失劳动能\\n力的； \\n4．患职业病以及现有医疗条件下难以治愈的严重疾病或者精神病的； 5．乙方正在接受纪律审查尚未作出结论的； 6．属于国家规定的不得解除本合同的其他情形的。 （五）有下列情形之一的，乙方可以随时单方面解除本合同： 1．在试用期内的； 2．考入普通高等院校的； 3．被录用或者选调为公务员的； 4．依法服兵役的。 除上述情形外，乙方提出解除本合同未能与甲方协商一致的，乙方应当坚持\\n正常工作，继续履行本合同；6 个月后再次提出解除本合同仍未能与甲方协商一致的，即可单方面解除本合同。', metadata={'source': './contract.pdf', 'page': 7}),\n",
       " Document(page_content='7（一）甲乙双方协商一致，可以变更本合同的相关内容。 \\n（二）本合同订立时所依据的法律、法规、规章和政策已经发生变化的，应\\n当依法变更本合同的相关内容。 \\n（三）本合同确需变更的，由甲乙双方按照规定程序签订《项目聘用合同变\\n更书》（附后），以书面形式确定合同变更的内容。 \\n（四）乙方年度考核或者聘期考核不合格，甲方可以调整乙方的岗位或安排\\n其离岗接受必要的培训后调整岗位,并向乙方出具《岗位调整通知书》 （附后）,\\n对本合同作出相应的变更。 （此款只适用于乙方属于甲方单位事业编制内职工。 ） \\n七、项目聘用合同的解除  \\n（一）甲方、乙方双方经协商一致，可以解除本合同。', metadata={'source': './contract.pdf', 'page': 6})]"
      ]
     },
     "execution_count": 14,
     "metadata": {},
     "output_type": "execute_result"
    }
   ],
   "source": [
    "retriever.get_relevant_documents(\"在什么情况下可以单方面解除合同\")"
   ]
  },
  {
   "cell_type": "code",
   "execution_count": 17,
   "metadata": {},
   "outputs": [],
   "source": [
    "retriever = rds.as_retriever(search_type=\"similarity_limit\", k=2, score_threshold=0.8)"
   ]
  },
  {
   "cell_type": "code",
   "execution_count": 18,
   "metadata": {},
   "outputs": [
    {
     "data": {
      "text/plain": [
       "[Document(page_content='（六）有下列情形之一的，乙方不得单方面解除项目聘用合同： 1．在承担国家重大科研项目期间； 2．掌握重大科技成果关键技术和资料，未脱离保密期； 3．被审查期间或因经济问题未作结案处理之前。 （七）本合同订立时所依据的客观情况发 生重大变化，致使合同无法履行，\\n经甲乙双方协商不能就变更合同达成协议的，双方均可以单方面解除本合同。 \\n（八）有下列情形之一的，甲方应当根据乙方在本单位的实际工作年限向其\\n支付经济补偿： \\n1．甲方提出解除本合同，乙方同意解除的； 2．乙方患病或者非因工负伤，医疗期满 后，不能从事原工作也不能从事由\\n甲方安排的其他工作，甲方单方面解除本合同的； \\n3．乙方年度考核或者聘期考核不合格， 又不同意甲方调整其工作岗位的，', metadata={'source': './contract.pdf', 'page': 7}),\n",
       " Document(page_content='（二）乙方有下列情形之一的，甲方可以随时单方面解除本合同： 1．在试用期内被证明不符合本岗位要求； 2．连续旷工超过 10 个工作日或者 1 年内累计旷工超过 20 个工作日的； 3．乙方公派出国或因私出境逾期不归；   \\n4．违反工作规定或者操作规程，发生责 任事故，或者失职、渎职，造成严\\n重后果的； \\n5．严重扰乱工作秩序，致使甲方、其他单位工作不能正常进行的； 6．被判处拘役、有期徒刑缓刑以及有期 徒刑以上刑罚收监执行，或者被劳\\n动教养的。 \\n（三）乙方有下列情形之一，甲方可以单方面解除本合同，但是应当提前\\n30 日以书面形式通知乙方： \\n1．乙方患病或者非因工负伤，医疗期满 后，不能从事原工作也不能从事由\\n甲方安排的其他工作的；', metadata={'source': './contract.pdf', 'page': 6})]"
      ]
     },
     "execution_count": 18,
     "metadata": {},
     "output_type": "execute_result"
    }
   ],
   "source": [
    "retriever.get_relevant_documents(\"在什么情况下可以单方面解除合同\")"
   ]
  },
  {
   "cell_type": "code",
   "execution_count": 4,
   "metadata": {},
   "outputs": [],
   "source": [
    "from langchain.chat_models import AzureChatOpenAI\n",
    "from langchain.retrievers.multi_query import MultiQueryRetriever\n",
    "\n",
    "llm = AzureChatOpenAI(deployment_name=\"gpt-35-turbo\", temperature=0)"
   ]
  },
  {
   "cell_type": "code",
   "execution_count": null,
   "metadata": {},
   "outputs": [],
   "source": [
    "retriever_from_llm = MultiQueryRetriever.from_llm(retriever=retriever, llm=llm)"
   ]
  },
  {
   "cell_type": "code",
   "execution_count": 17,
   "metadata": {},
   "outputs": [],
   "source": [
    "# Set logging for the queries\n",
    "import logging\n",
    "logging.basicConfig()\n",
    "logging.getLogger('langchain.retrievers.multi_query').setLevel(logging.INFO)"
   ]
  },
  {
   "cell_type": "code",
   "execution_count": 19,
   "metadata": {},
   "outputs": [
    {
     "name": "stderr",
     "output_type": "stream",
     "text": [
      "INFO:langchain.retrievers.multi_query:Generated queries: ['1. 什么条件下可以单方面终止合同？', '2. 哪些情况下可以单方面解除合同？', '3. 在哪些情况下可以单方面取消合同？']\n"
     ]
    },
    {
     "data": {
      "text/plain": [
       "2"
      ]
     },
     "execution_count": 19,
     "metadata": {},
     "output_type": "execute_result"
    }
   ],
   "source": [
    "unique_docs = retriever_from_llm.get_relevant_documents(\"在什么情况下可以单方面解除合同\")\n",
    "len(unique_docs)"
   ]
  },
  {
   "cell_type": "markdown",
   "metadata": {},
   "source": [
    "Chain"
   ]
  },
  {
   "cell_type": "code",
   "execution_count": 16,
   "metadata": {},
   "outputs": [],
   "source": [
    "rds = Redis.from_existing_index(\n",
    "    embeddings, redis_url=\"redis://localhost:6379\", index_name=\"link\"\n",
    ")\n",
    "retriever = rds.as_retriever()"
   ]
  },
  {
   "cell_type": "code",
   "execution_count": 7,
   "metadata": {},
   "outputs": [],
   "source": [
    "from langchain.chains import RetrievalQA\n",
    "\n",
    "qa = RetrievalQA.from_chain_type(llm=llm, chain_type=\"map_reduce\", retriever=retriever)"
   ]
  },
  {
   "cell_type": "code",
   "execution_count": 9,
   "metadata": {},
   "outputs": [
    {
     "name": "stdout",
     "output_type": "stream",
     "text": [
      "根据所提供的文本，有以下情况可以单方面解除合同：\n",
      "\n",
      "- 甲方因工负伤，治疗终结后经劳动能力鉴定机构鉴定为 1 至 4 级丧失劳动能力；\n",
      "- 甲方患职业病以及现有医疗条件下难以治愈的严重疾病或者精神病；\n",
      "- 甲方被判刑；\n",
      "- 甲方违反劳动纪律、规章制度，给用人单位造成重大损害；\n",
      "- 甲方正在接受纪律审查尚未作出结论；\n",
      "- 甲方属于国家规定的不得解除本合同的其他情形；\n",
      "- 乙方在试用期内；\n",
      "- 乙方考入普通高等院校；\n",
      "- 乙方被录用或者选调为公务员；\n",
      "- 乙方依法服兵役。\n",
      "\n",
      "除上述情形外，所有的变更和解除都需要甲乙双方协商一致。\n"
     ]
    }
   ],
   "source": [
    "print(qa.run(\"在什么情况下可以单方面解除合同\"))"
   ]
  }
 ],
 "metadata": {
  "kernelspec": {
   "display_name": ".venv",
   "language": "python",
   "name": "python3"
  },
  "language_info": {
   "codemirror_mode": {
    "name": "ipython",
    "version": 3
   },
   "file_extension": ".py",
   "mimetype": "text/x-python",
   "name": "python",
   "nbconvert_exporter": "python",
   "pygments_lexer": "ipython3",
   "version": "3.11.3"
  },
  "orig_nbformat": 4
 },
 "nbformat": 4,
 "nbformat_minor": 2
}
