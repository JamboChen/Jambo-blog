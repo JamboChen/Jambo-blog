{
 "cells": [
  {
   "cell_type": "code",
   "execution_count": 4,
   "metadata": {},
   "outputs": [
    {
     "data": {
      "text/plain": [
       "True"
      ]
     },
     "execution_count": 4,
     "metadata": {},
     "output_type": "execute_result"
    }
   ],
   "source": [
    "import os\n",
    "os.environ[\"OPENAI_API_KEY\"] = \"\"\n",
    "os.environ[\"OPENAI_API_VERSION\"] = \"\"\n",
    "os.environ[\"OPENAI_API_BASE\"] = \"\"\n",
    "\n",
    "from dotenv import load_dotenv\n",
    "load_dotenv(override=True)"
   ]
  },
  {
   "cell_type": "code",
   "execution_count": 2,
   "metadata": {},
   "outputs": [],
   "source": [
    "from langchain.llms import AzureOpenAI\n",
    "\n",
    "llm = AzureOpenAI(deployment_name=\"text-davinci-003\", temperature=0)"
   ]
  },
  {
   "cell_type": "code",
   "execution_count": 11,
   "metadata": {},
   "outputs": [],
   "source": [
    "res1 = llm.predict(\"1 + 1 = \", stop=(\"=\"))\n",
    "res2 = llm(\"1 + 1 = \", stop = [\"=\"])\n",
    "res3 = llm.generate([\"1 + 1 = \"], stop = [\"=\"]).generations[0][0].text"
   ]
  },
  {
   "cell_type": "code",
   "execution_count": 12,
   "metadata": {},
   "outputs": [
    {
     "name": "stdout",
     "output_type": "stream",
     "text": [
      "10\n",
      "2\n"
     ]
    }
   ],
   "source": [
    "llm = AzureOpenAI(deployment_name=\"text-davinci-003\", temperature=0, n=2)\n",
    "llm_result = llm.generate([f\"{i}**2 =\" for i in range(1, 11)], stop=\"\\n\")\n",
    "print(len(llm_result.generations))\n",
    "print(len(llm_result.generations[0]))"
   ]
  },
  {
   "cell_type": "code",
   "execution_count": 13,
   "metadata": {},
   "outputs": [],
   "source": [
    "llm = AzureOpenAI(deployment_name=\"text-davinci-003\", temperature=0, n=2)\n",
    "llm_result = llm.generate([f\"{i}**2 =\" for i in range(1, 11)], stop=\"\\n\", n=1)"
   ]
  },
  {
   "cell_type": "code",
   "execution_count": 14,
   "metadata": {},
   "outputs": [
    {
     "data": {
      "text/plain": [
       "'{\"generations\": [[{\"text\": \" 1\", \"generation_info\": {\"finish_reason\": \"stop\", \"logprobs\": null}}, {\"text\": \" 4\", \"generation_info\": {\"finish_reason\": \"stop\", \"logprobs\": null}}], [{\"text\": \" 9\", \"generation_info\": {\"finish_reason\": \"stop\", \"logprobs\": null}}, {\"text\": \" 16\", \"generation_info\": {\"finish_reason\": \"stop\", \"logprobs\": null}}], [{\"text\": \" 25\", \"generation_info\": {\"finish_reason\": \"stop\", \"logprobs\": null}}, {\"text\": \" 36\", \"generation_info\": {\"finish_reason\": \"stop\", \"logprobs\": null}}], [{\"text\": \" 49\", \"generation_info\": {\"finish_reason\": \"stop\", \"logprobs\": null}}, {\"text\": \" 64\", \"generation_info\": {\"finish_reason\": \"stop\", \"logprobs\": null}}], [{\"text\": \" 81\", \"generation_info\": {\"finish_reason\": \"stop\", \"logprobs\": null}}, {\"text\": \"\", \"generation_info\": {\"finish_reason\": \"stop\", \"logprobs\": null}}], [], [], [], [], []], \"llm_output\": {\"token_usage\": {\"prompt_tokens\": 40, \"total_tokens\": 49, \"completion_tokens\": 9}, \"model_name\": \"text-davinci-003\"}, \"run\": {\"run_id\": \"939fc95d-57b2-46e1-966f-3521eb09f3e9\"}}'"
      ]
     },
     "execution_count": 14,
     "metadata": {},
     "output_type": "execute_result"
    }
   ],
   "source": [
    "llm_result.json()"
   ]
  },
  {
   "cell_type": "code",
   "execution_count": 3,
   "metadata": {},
   "outputs": [
    {
     "data": {
      "text/plain": [
       "'\\n我希望你担任顾问，帮忙为公司想名字。\\n这个公司生产运动衬衫，有什么好名字？\\n'"
      ]
     },
     "execution_count": 3,
     "metadata": {},
     "output_type": "execute_result"
    }
   ],
   "source": [
    "from langchain import PromptTemplate\n",
    "\n",
    "template = \"\"\"\n",
    "我希望你担任顾问，帮忙为公司想名字。\n",
    "这个公司生产{product}，有什么好名字？\n",
    "\"\"\"\n",
    "\n",
    "prompt_template = PromptTemplate(\n",
    "    input_variables=[\"product\"],\n",
    "    template=template,\n",
    ")\n",
    "prompt_template.format(product=\"运动衬衫\")"
   ]
  },
  {
   "cell_type": "code",
   "execution_count": 3,
   "metadata": {},
   "outputs": [
    {
     "data": {
      "text/plain": [
       "['product']"
      ]
     },
     "execution_count": 3,
     "metadata": {},
     "output_type": "execute_result"
    }
   ],
   "source": [
    "prompt_template = PromptTemplate.from_template(template)\n",
    "prompt_template.input_variables"
   ]
  },
  {
   "cell_type": "code",
   "execution_count": null,
   "metadata": {},
   "outputs": [],
   "source": [
    "from langchain.prompts import load_prompt\n",
    "prompt_template.save(\"prompt.json\")\n",
    "prompt_template = load_prompt(\"prompt.json\")"
   ]
  },
  {
   "attachments": {},
   "cell_type": "markdown",
   "metadata": {},
   "source": [
    "## Chain"
   ]
  },
  {
   "cell_type": "code",
   "execution_count": 5,
   "metadata": {},
   "outputs": [
    {
     "name": "stdout",
     "output_type": "stream",
     "text": [
      " hEllO\n",
      " hEllO\n"
     ]
    }
   ],
   "source": [
    "from langchain.llms import AzureOpenAI\n",
    "from langchain import PromptTemplate\n",
    "from langchain.chains import LLMChain\n",
    "\n",
    "llm = AzureOpenAI(deployment_name=\"text-davinci-003\", temperature=0)\n",
    "prompt = PromptTemplate(\n",
    "    input_variables=[\"input\"],\n",
    "    template=\"\"\"\n",
    "    将给定的字符串进行大小写转换。\n",
    "    例如：\n",
    "    输入： ABCdef\n",
    "    输出： abcDEF\n",
    "    \n",
    "    输入： AbcDeF\n",
    "    输出： aBCdEf\n",
    "    \n",
    "    输入： {input}\n",
    "    输出： \n",
    "    \"\"\",\n",
    ")\n",
    "\n",
    "chain = LLMChain(llm=llm, prompt=prompt)\n",
    "print(chain.run(\"HeLLo\"))\n",
    "print(chain.run({\"input\": \"HeLLo\"}))\n"
   ]
  },
  {
   "cell_type": "code",
   "execution_count": 6,
   "metadata": {},
   "outputs": [
    {
     "name": "stdout",
     "output_type": "stream",
     "text": [
      "\n",
      "\n",
      "\u001b[1m> Entering new  chain...\u001b[0m\n",
      "Prompt after formatting:\n",
      "\u001b[32;1m\u001b[1;3m\n",
      "    将给定的字符串进行大小写转换。\n",
      "    例如：\n",
      "    输入： ABCdef\n",
      "    输出： abcDEF\n",
      "    \n",
      "    输入： AbcDeF\n",
      "    输出： aBCdEf\n",
      "    \n",
      "    输入： HeLLo\n",
      "    输出： \n",
      "    \u001b[0m\n",
      "\n",
      "\u001b[1m> Finished chain.\u001b[0m\n",
      " hEllO\n"
     ]
    }
   ],
   "source": [
    "chain_verbose = LLMChain(llm=llm, prompt=prompt, verbose=True)\n",
    "print(chain_verbose.run({\"input\": \"HeLLo\"}))"
   ]
  },
  {
   "cell_type": "code",
   "execution_count": 34,
   "metadata": {},
   "outputs": [
    {
     "name": "stdout",
     "output_type": "stream",
     "text": [
      "\n",
      "\n",
      "\u001b[1m> Entering new  chain...\u001b[0m\n",
      "\u001b[36;1m\u001b[1;3m\n",
      "\n",
      "3的平方是9.\u001b[0m\n",
      "\u001b[33;1m\u001b[1;3m\n",
      "\n",
      "IX\u001b[0m\n",
      "\n",
      "\u001b[1m> Finished chain.\u001b[0m\n"
     ]
    },
    {
     "data": {
      "text/plain": [
       "'\\n\\nIX'"
      ]
     },
     "execution_count": 34,
     "metadata": {},
     "output_type": "execute_result"
    }
   ],
   "source": [
    "from langchain.chains import SimpleSequentialChain\n",
    "\n",
    "llm = AzureOpenAI(deployment_name=\"text-davinci-003\", temperature=0)\n",
    "prompt1 = PromptTemplate(\n",
    "    input_variables=[\"base\"], template=\"{base}的平方是： \"\n",
    ")\n",
    "chain1 = LLMChain(llm=llm, prompt=prompt1)\n",
    "\n",
    "prompt2 = PromptTemplate(input_variables=[\"input\"], template=\"将{input}写成罗马数字是： \")\n",
    "chain2 = LLMChain(llm=llm, prompt=prompt2)\n",
    "\n",
    "overall_chain = SimpleSequentialChain(chains=[chain1, chain2], verbose=True)\n",
    "overall_chain.run(3)\n"
   ]
  },
  {
   "cell_type": "code",
   "execution_count": null,
   "metadata": {},
   "outputs": [],
   "source": []
  }
 ],
 "metadata": {
  "kernelspec": {
   "display_name": "3.11",
   "language": "python",
   "name": "python3"
  },
  "language_info": {
   "codemirror_mode": {
    "name": "ipython",
    "version": 3
   },
   "file_extension": ".py",
   "mimetype": "text/x-python",
   "name": "python",
   "nbconvert_exporter": "python",
   "pygments_lexer": "ipython3",
   "version": "3.11.3"
  },
  "orig_nbformat": 4
 },
 "nbformat": 4,
 "nbformat_minor": 2
}
