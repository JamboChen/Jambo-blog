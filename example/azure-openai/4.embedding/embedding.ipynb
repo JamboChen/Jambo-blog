{
 "cells": [
  {
   "attachments": {},
   "cell_type": "markdown",
   "metadata": {},
   "source": [
    "# 嵌入"
   ]
  },
  {
   "attachments": {},
   "cell_type": "markdown",
   "metadata": {},
   "source": [
    "## API 调用"
   ]
  },
  {
   "cell_type": "code",
   "execution_count": null,
   "metadata": {},
   "outputs": [],
   "source": [
    "!pip install openai[datalib]"
   ]
  },
  {
   "cell_type": "code",
   "execution_count": null,
   "metadata": {},
   "outputs": [],
   "source": [
    "import openai"
   ]
  },
  {
   "cell_type": "code",
   "execution_count": null,
   "metadata": {},
   "outputs": [],
   "source": [
    "import json\n",
    "\n",
    "with open(\"../config.json\") as f:\n",
    "    config = json.load(f)\n",
    "\n",
    "openai.api_key = config[\"api_key\"]\n",
    "openai.api_base = config[\"api_base\"]  # your endpoint should look like the following https://YOUR_RESOURCE_NAME.openai.azure.com/\n",
    "openai.api_type = \"azure\"\n",
    "openai.api_version = \"2023-03-15-preview\"  # this may change in the future\n",
    "model = \"text-embedding-ada-002\"  # Model deployment name\n"
   ]
  },
  {
   "cell_type": "code",
   "execution_count": null,
   "metadata": {},
   "outputs": [],
   "source": [
    "embedding = openai.Embedding.create(\n",
    "    input=\"苹果\", engine=model\n",
    ")\n",
    "print(embedding)"
   ]
  },
  {
   "attachments": {},
   "cell_type": "markdown",
   "metadata": {},
   "source": [
    "## 计算相似度\n",
    "\n",
    "我们使用余弦相似度来计算两个向量之间的相似度。\n",
    "\n",
    "$$\n",
    "\\cos(\\theta) = \\frac{\\vec A \\cdot \\vec B}{\\|\\vec A\\| \\|\\vec B\\|}\n",
    "$$\n",
    "因为返回的是单位向量，所以我们可以直接使用向量的点积来计算余弦相似度。\n",
    "\n",
    "$$\n",
    "\\cos(\\theta) = \\frac{\\vec A \\cdot \\vec B}{1 \\cdot 1} = \\vec A \\cdot \\vec B\n",
    "$$"
   ]
  },
  {
   "cell_type": "code",
   "execution_count": null,
   "metadata": {},
   "outputs": [],
   "source": [
    "import numpy as np\n",
    "\n",
    "def cosine_similarity(a, b):\n",
    "    return np.dot(a, b)"
   ]
  },
  {
   "cell_type": "code",
   "execution_count": null,
   "metadata": {},
   "outputs": [],
   "source": [
    "embedding1 = openai.Embedding.create(input=\"苹果\", engine=model)[\"data\"][0][\"embedding\"]\n",
    "embedding2 = openai.Embedding.create(input=\"apple\", engine=model)[\"data\"][0][\"embedding\"]\n",
    "embedding3 = openai.Embedding.create(input=\"鞋子\", engine=model)[\"data\"][0][\"embedding\"]\n",
    "\n",
    "print(cosine_similarity(embedding1, embedding2))\n",
    "print(cosine_similarity(embedding1, embedding3))\n",
    "print(cosine_similarity(embedding2, embedding3))\n"
   ]
  }
 ],
 "metadata": {
  "kernelspec": {
   "display_name": ".venv",
   "language": "python",
   "name": "python3"
  },
  "language_info": {
   "codemirror_mode": {
    "name": "ipython",
    "version": 3
   },
   "file_extension": ".py",
   "mimetype": "text/x-python",
   "name": "python",
   "nbconvert_exporter": "python",
   "pygments_lexer": "ipython3",
   "version": "3.11.0"
  },
  "orig_nbformat": 4
 },
 "nbformat": 4,
 "nbformat_minor": 2
}
