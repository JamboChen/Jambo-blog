{
 "cells": [
  {
   "cell_type": "code",
   "execution_count": 12,
   "metadata": {},
   "outputs": [],
   "source": [
    "import base64\n",
    "import os\n",
    "\n",
    "import requests\n",
    "from dotenv import load_dotenv\n",
    "\n",
    "load_dotenv()\n",
    "TOKEN = os.getenv(\"TOKEN\")\n"
   ]
  },
  {
   "cell_type": "code",
   "execution_count": 23,
   "metadata": {},
   "outputs": [],
   "source": [
    "def invoke(prompt: str, image_b64: str, stream=True):\n",
    "    invoke_url = \"https://ai.api.nvidia.com/v1/vlm/microsoft/phi-3-vision-128k-instruct\"\n",
    "\n",
    "    assert (\n",
    "        len(image_b64) < 180_000\n",
    "    ), \"To upload larger images, use the assets API (see docs)\"\n",
    "\n",
    "    headers = {\n",
    "        \"Authorization\": f\"Bearer {TOKEN}\",\n",
    "        \"Accept\": \"text/event-stream\" if stream else \"application/json\",\n",
    "    }\n",
    "\n",
    "    payload = {\n",
    "        \"messages\": [\n",
    "            {\n",
    "                \"role\": \"user\",\n",
    "                \"content\": f'{prompt} <img src=\"data:image/png;base64,{image_b64}\" />',\n",
    "            }\n",
    "        ],\n",
    "        \"max_tokens\": 512,\n",
    "        \"temperature\": 1.00,\n",
    "        \"top_p\": 0.70,\n",
    "        \"stream\": stream,\n",
    "    }\n",
    "\n",
    "    response = requests.post(invoke_url, headers=headers, json=payload)\n",
    "\n",
    "    if stream:\n",
    "        for line in response.iter_lines():\n",
    "            if line:\n",
    "                print(line.decode(\"utf-8\"))\n",
    "    else:\n",
    "        print(response.json()[\"choices\"][0][\"message\"][\"content\"])\n"
   ]
  },
  {
   "cell_type": "code",
   "execution_count": 24,
   "metadata": {},
   "outputs": [],
   "source": [
    "with open(\"nutrition_facts.jpg\", \"rb\") as f:\n",
    "    image_b64 = base64.b64encode(f.read()).decode()"
   ]
  },
  {
   "cell_type": "code",
   "execution_count": 25,
   "metadata": {},
   "outputs": [
    {
     "name": "stdout",
     "output_type": "stream",
     "text": [
      "Certainly! Below is the markdown table converted from the image provided:\n",
      "\n",
      "```markdown\n",
      "| Nutrition Facts                |                     |\n",
      "|--------------------------------|---------------------|\n",
      "| 8 servings per container       |                     |\n",
      "| Serving size                   | 2 rolls (20g)       |\n",
      "| **Amount Per Serving**         |                     |\n",
      "| Calories                       | 120                 |\n",
      "| **% Daily Value***             |                     |\n",
      "| Total Fat                      | 9g                  |\n",
      "|                                | 12%                 |\n",
      "| Saturated Fat                  | 4g                  |\n",
      "|                                | 20%                 |\n",
      "| Trans Fat                      | 0g                  |\n",
      "| Cholesterol                     | 0mg                 |\n",
      "|                                | 0%                  |\n",
      "| Sodium                         | 55mg                |\n",
      "|                                |\n",
      "| Trans Fat                      | 0g                  |\n",
      "| Cholesterol                    | 0mg                 |\n",
      "|                                | 0%                  |\n",
      "| Sodium                         | 55mg                |\n",
      "|                                | 2%                  |\n",
      "| Total Carbohydrate             | 10g                 |\n",
      "|                                | 4%                  |\n",
      "| Dietary Fiber                  | 0g                  |\n",
      "|                                | 0%                  |\n",
      "| Total Sugars                   | 1g                  |\n",
      "| Includes 1g Added Sugars       |                     |\n",
      "|                                | 2%                  |\n",
      "| Protein                        | less than 1g        |\n",
      "| Vit. D                         | 0mcg 0%             |\n",
      "| Calcium                        | 0mg 0%              |\n",
      "| Iron                           | 0mg 0%              |\n",
      "| Potas.                         | 0mg 0%              |\n",
      "```\n",
      "\n",
      "*The % Daily Value tells you how much a nutrient in a serving of food contributes to a daily diet. 2, 2,0 calories a day is used for general nutration advice\n"
     ]
    }
   ],
   "source": [
    "invoke(\"Help me organize the table in the picture into md table\", image_b64, stream=False)"
   ]
  },
  {
   "cell_type": "code",
   "execution_count": null,
   "metadata": {},
   "outputs": [],
   "source": []
  }
 ],
 "metadata": {
  "kernelspec": {
   "display_name": "work",
   "language": "python",
   "name": "python3"
  },
  "language_info": {
   "codemirror_mode": {
    "name": "ipython",
    "version": 3
   },
   "file_extension": ".py",
   "mimetype": "text/x-python",
   "name": "python",
   "nbconvert_exporter": "python",
   "pygments_lexer": "ipython3",
   "version": "3.11.8"
  }
 },
 "nbformat": 4,
 "nbformat_minor": 2
}
